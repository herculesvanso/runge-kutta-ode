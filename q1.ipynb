{
 "cells": [
  {
   "cell_type": "code",
   "execution_count": 140,
   "id": "4f86e2bb",
   "metadata": {},
   "outputs": [],
   "source": [
    "import numpy as np\n",
    "import pandas as pd\n",
    "import matplotlib.pyplot as plt\n",
    "from rungekutta import RK"
   ]
  },
  {
   "cell_type": "code",
   "execution_count": 141,
   "id": "553fd528",
   "metadata": {},
   "outputs": [],
   "source": [
    "def f(t,X):\n",
    "    # x = x(t)\n",
    "    # X = [x,dx/dt,d dx/dt /dt, ...]\n",
    "    # In math terms: f(t,x,dx/dt) = (dx/dt,-x(t) * cos(2t)/2)\n",
    "    return np.array(\n",
    "        [X[1],-X[0] * np.cos(2*t)/2]\n",
    "    )"
   ]
  },
  {
   "cell_type": "code",
   "execution_count": 142,
   "id": "cc796ed9",
   "metadata": {},
   "outputs": [],
   "source": [
    "# Setting the parameters\n",
    "a = 0.\n",
    "b = np.pi\n",
    "X0 = [0.,1.]\n",
    "m = 1000"
   ]
  },
  {
   "cell_type": "code",
   "execution_count": 143,
   "id": "f0dc3f61",
   "metadata": {},
   "outputs": [
    {
     "data": {
      "text/html": [
       "<div>\n",
       "<style scoped>\n",
       "    .dataframe tbody tr th:only-of-type {\n",
       "        vertical-align: middle;\n",
       "    }\n",
       "\n",
       "    .dataframe tbody tr th {\n",
       "        vertical-align: top;\n",
       "    }\n",
       "\n",
       "    .dataframe thead th {\n",
       "        text-align: right;\n",
       "    }\n",
       "</style>\n",
       "<table border=\"1\" class=\"dataframe\">\n",
       "  <thead>\n",
       "    <tr style=\"text-align: right;\">\n",
       "      <th></th>\n",
       "      <th>t</th>\n",
       "      <th>x</th>\n",
       "      <th>d/dt x</th>\n",
       "    </tr>\n",
       "  </thead>\n",
       "  <tbody>\n",
       "    <tr>\n",
       "      <th>0</th>\n",
       "      <td>0.000000</td>\n",
       "      <td>0.000000</td>\n",
       "      <td>1.000000</td>\n",
       "    </tr>\n",
       "    <tr>\n",
       "      <th>1</th>\n",
       "      <td>0.003142</td>\n",
       "      <td>0.003142</td>\n",
       "      <td>0.999998</td>\n",
       "    </tr>\n",
       "    <tr>\n",
       "      <th>2</th>\n",
       "      <td>0.006283</td>\n",
       "      <td>0.006283</td>\n",
       "      <td>0.999990</td>\n",
       "    </tr>\n",
       "    <tr>\n",
       "      <th>3</th>\n",
       "      <td>0.009425</td>\n",
       "      <td>0.009425</td>\n",
       "      <td>0.999978</td>\n",
       "    </tr>\n",
       "    <tr>\n",
       "      <th>4</th>\n",
       "      <td>0.012566</td>\n",
       "      <td>0.012566</td>\n",
       "      <td>0.999961</td>\n",
       "    </tr>\n",
       "    <tr>\n",
       "      <th>...</th>\n",
       "      <td>...</td>\n",
       "      <td>...</td>\n",
       "      <td>...</td>\n",
       "    </tr>\n",
       "    <tr>\n",
       "      <th>996</th>\n",
       "      <td>3.129026</td>\n",
       "      <td>3.888563</td>\n",
       "      <td>0.870450</td>\n",
       "    </tr>\n",
       "    <tr>\n",
       "      <th>997</th>\n",
       "      <td>3.132168</td>\n",
       "      <td>3.891288</td>\n",
       "      <td>0.864341</td>\n",
       "    </tr>\n",
       "    <tr>\n",
       "      <th>998</th>\n",
       "      <td>3.135309</td>\n",
       "      <td>3.893993</td>\n",
       "      <td>0.858227</td>\n",
       "    </tr>\n",
       "    <tr>\n",
       "      <th>999</th>\n",
       "      <td>3.138451</td>\n",
       "      <td>3.896680</td>\n",
       "      <td>0.852109</td>\n",
       "    </tr>\n",
       "    <tr>\n",
       "      <th>1000</th>\n",
       "      <td>3.141593</td>\n",
       "      <td>3.899347</td>\n",
       "      <td>0.845986</td>\n",
       "    </tr>\n",
       "  </tbody>\n",
       "</table>\n",
       "<p>1001 rows × 3 columns</p>\n",
       "</div>"
      ],
      "text/plain": [
       "             t         x    d/dt x\n",
       "0     0.000000  0.000000  1.000000\n",
       "1     0.003142  0.003142  0.999998\n",
       "2     0.006283  0.006283  0.999990\n",
       "3     0.009425  0.009425  0.999978\n",
       "4     0.012566  0.012566  0.999961\n",
       "...        ...       ...       ...\n",
       "996   3.129026  3.888563  0.870450\n",
       "997   3.132168  3.891288  0.864341\n",
       "998   3.135309  3.893993  0.858227\n",
       "999   3.138451  3.896680  0.852109\n",
       "1000  3.141593  3.899347  0.845986\n",
       "\n",
       "[1001 rows x 3 columns]"
      ]
     },
     "execution_count": 143,
     "metadata": {},
     "output_type": "execute_result"
    }
   ],
   "source": [
    "table = RK(a,b,X0,m)\n",
    "table"
   ]
  },
  {
   "cell_type": "code",
   "execution_count": 144,
   "id": "8acadef0",
   "metadata": {},
   "outputs": [
    {
     "data": {
      "image/png": "[encoded data removed]",
      "text/plain": [
       "<Figure size 640x480 with 1 Axes>"
      ]
     },
     "metadata": {},
     "output_type": "display_data"
    }
   ],
   "source": [
    "plt.plot(tabela[:,0],tabela[:,1])\n",
    "plt.xlabel('t')\n",
    "plt.ylabel('x(t) ')\n",
    "plt.grid(True)\n",
    "plt.show()\n"
   ]
  }
 ],
 "metadata": {
  "kernelspec": {
   "display_name": "Python 3 (ipykernel)",
   "language": "python",
   "name": "python3"
  },
  "language_info": {
   "codemirror_mode": {
    "name": "ipython",
    "version": 3
   },
   "file_extension": ".py",
   "mimetype": "text/x-python",
   "name": "python",
   "nbconvert_exporter": "python",
   "pygments_lexer": "ipython3",
   "version": "3.11.5"
  }
 },
 "nbformat": 4,
 "nbformat_minor": 5
}
